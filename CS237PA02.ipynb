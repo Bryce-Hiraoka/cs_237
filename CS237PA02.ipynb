{
  "nbformat": 4,
  "nbformat_minor": 0,
  "metadata": {
    "colab": {
      "provenance": [],
      "include_colab_link": true
    },
    "kernelspec": {
      "name": "python3",
      "display_name": "Python 3"
    },
    "language_info": {
      "name": "python"
    }
  },
  "cells": [
    {
      "cell_type": "markdown",
      "metadata": {
        "id": "view-in-github",
        "colab_type": "text"
      },
      "source": [
        "<a href=\"https://colab.research.google.com/github/Bryce-Hiraoka/cs_237_ps_01/blob/ps02/CS237PA02.ipynb\" target=\"_parent\"><img src=\"https://colab.research.google.com/assets/colab-badge.svg\" alt=\"Open In Colab\"/></a>"
      ]
    },
    {
      "cell_type": "markdown",
      "source": [
        "# CS237 - Fall 2023 - Programming Assignment 02\n",
        "## Due Thursday, February 2nd at midnight (1 minute after 11:59pm) in Gradescope\n",
        "\n",
        "In this programming assignment, you will implement some of the problems shown in lecture and in your previous analytical homework.\n",
        "\n",
        "Submit your programming assignment by filling in this notebook with your solutions. Write all your code in this file, **be sure to click on Runtime-> Run all and verify that everything works as you intended**, and then upload the `ipynb` file to Gradescope."
      ],
      "metadata": {
        "id": "Ejq6YVEvm5KX"
      }
    },
    {
      "cell_type": "markdown",
      "source": [
        "## Warmup - Evaluating polynomials\n",
        "\n",
        "The following code cell contains examples of polynomial equations written as strings in Python. The function `eval_polynomial(P,value)` takes as input a string `P` and a value `v`. Its tak is to replace the value `v` with the variable `x` in the equation `P` and compute the final value of `P`.\n",
        "\n",
        "\n"
      ],
      "metadata": {
        "id": "juHBYMuLonCN"
      }
    },
    {
      "cell_type": "code",
      "source": [
        "# Warmup: polynomial evaluator\n",
        "import random\n",
        "polyA = (\"(x+1)*(x-2)*(x+3)*(x-4)*(x+5)*(x-6)\",6)    # pair (polynomial-as-string, degree)\n",
        "polyB = (\"x**6-7*x+37\",6)\n",
        "\n",
        "# take a string P representing a polynomial in x, and a value, and return the result\n",
        "\n",
        "def eval_polynomial(P,value):\n",
        "    return eval(P.replace(\"x\",str(value) ))\n",
        "\n",
        "# example\n",
        "print(eval_polynomial(polyA[0],0))\n",
        "print(eval_polynomial(polyB[0],3))"
      ],
      "metadata": {
        "id": "SZbM1YycjBGg",
        "colab": {
          "base_uri": "https://localhost:8080/"
        },
        "outputId": "445e2242-6d8a-4922-eaf3-136be0f60060"
      },
      "execution_count": 52,
      "outputs": [
        {
          "output_type": "stream",
          "name": "stdout",
          "text": [
            "-720\n",
            "745\n"
          ]
        }
      ]
    },
    {
      "cell_type": "markdown",
      "source": [
        "## Problem 1 - Polynomial Testing (10 pts)\n",
        "\n",
        "Implement the polynomial testing algorithm presented in lecture. Write your code in the following cells. Here, the variable `prec` is the denominator of the error probability. E.g., for an error equals to $\\frac{1}{100}$ you would use `prec == 100`.  \n",
        "\n",
        "Test your code for each of the cases below. If the polynomials are equal, print a message according to the following example:\n",
        "\n",
        "    Polynomial A of degree 6: (x+1)*(x-2)*(x+3)*(x-4)*(x+5)*(x-6)\n",
        "    Polynomial B of degree 6: x**6-7*x+37\n",
        "    Polynomials are equal, with an error probability of 0.01.\n",
        "\n",
        "If they are not equal, print:\n",
        "\n",
        "    Polynomial A of degree 6: (x+1)*(x-2)*(x+3)*(x-4)*(x+5)*(x-6)\n",
        "    Polynomial B of degree 6: x**6-7*x+37\n",
        "    Polynomials are NOT equal!\n",
        "\n",
        "Finally, explain how you can boost your code in order to reduce the error probability without changing the value of `prec`."
      ],
      "metadata": {
        "id": "KjS_CL0Rnlio"
      }
    },
    {
      "cell_type": "code",
      "source": [
        "# Input: Two polynomials and denominator of the error probability\n",
        "# Output: Boolean value True/False\n",
        "import random\n",
        "def equal_polynomials(polyA,polyB,prec):\n",
        "    pass   \n",
        "    r = random.randint(1, 100 * prec)\n",
        "    a = eval_polynomial(polyA[0], r)\n",
        "    b = eval_polynomial(polyB[0], r)\n",
        "    if a == b:\n",
        "      return True\n",
        "    else:\n",
        "      return False \n",
        "\n",
        "\n",
        "# Input: Two polynomials and denominator of the error probability\n",
        "# Output: Result, as indicated above\n",
        "def test_polynomials(polyA,polyB,prec):\n",
        "    pass\n",
        "    if equal_polynomials(polyA,polyB,prec):\n",
        "      print(\"Polynomial A of degree \", polyA[1], \": \", polyA[0])\n",
        "      print(\"Polynomial B of degree \", polyB[1], \": \", polyB[0])\n",
        "      print(\"Polynomials are equal, with an error probability of\", 1/prec)\n",
        "\n",
        "    else:\n",
        "      print(\"Polynomial A of degree \", polyA[1], \": \", polyA[0])\n",
        "      print(\"Polynomial B of degree \", polyB[1], \": \", polyB[0])\n",
        "      print(\"Polynomials are NOT equal!\")\n"
      ],
      "metadata": {
        "id": "_H5tL1dSqyTq"
      },
      "execution_count": 56,
      "outputs": []
    },
    {
      "cell_type": "code",
      "source": [
        "# Solution: test polyA and polyB with prec == 100\n",
        "\n",
        "polyA = (\"(x+1)*(x-2)*(x+3)*(x-4)*(x+5)*(x-6)\",6)   \n",
        "polyB = (\"x**6-7*x+37\",6)\n",
        "\n",
        "test_polynomials(polyA,polyB,100)"
      ],
      "metadata": {
        "id": "ZBC58pBlru-Q",
        "colab": {
          "base_uri": "https://localhost:8080/"
        },
        "outputId": "a77f95f0-9702-4390-f0f0-b3dd3628cf4b"
      },
      "execution_count": 57,
      "outputs": [
        {
          "output_type": "stream",
          "name": "stdout",
          "text": [
            "Polynomial A of degree  6 :  (x+1)*(x-2)*(x+3)*(x-4)*(x+5)*(x-6)\n",
            "Polynomial B of degree  6 :  x**6-7*x+37\n",
            "Polynomials are NOT equal!\n"
          ]
        }
      ]
    },
    {
      "cell_type": "code",
      "source": [
        "# Solution: test pa1 and pa2 with prec == 10**4\n",
        "\n",
        "polyA = (\"2*x**5 - 19*x**4 + 58*x**3 - 67*x**2 + 56*x - 48\",5)\n",
        "polyB = (\"(2*x - 3)*(x - 4)*(x - 4)*(x**2 + 1)\",5)\n",
        "\n",
        "test_polynomials(polyA,polyB,10**4)"
      ],
      "metadata": {
        "id": "gXGmHrKxrv1U",
        "colab": {
          "base_uri": "https://localhost:8080/"
        },
        "outputId": "897fbaae-61e9-4177-8eb2-36a31913e932"
      },
      "execution_count": 58,
      "outputs": [
        {
          "output_type": "stream",
          "name": "stdout",
          "text": [
            "Polynomial A of degree  5 :  2*x**5 - 19*x**4 + 58*x**3 - 67*x**2 + 56*x - 48\n",
            "Polynomial B of degree  5 :  (2*x - 3)*(x - 4)*(x - 4)*(x**2 + 1)\n",
            "Polynomials are equal, with an error probability of 0.0001\n"
          ]
        }
      ]
    },
    {
      "cell_type": "code",
      "source": [
        "# Solution: test pa1 and pa2 with prec == 10**6\n",
        "polyA = (\"(x + 1)**3 * (x - 1) * (x+3)**2 * (x - 2) * (x + 2)**2\",9)\n",
        "polyB = (\"x**9 + 10*x**8 + 33*x**7 + 18*x**6 - 129*x**5 - 282*x**4 - 133*x**3 + 182*x**2 + 228*x + 72\",9)\n",
        "\n",
        "test_polynomials(polyA,polyB,10**6)"
      ],
      "metadata": {
        "id": "fHwLGBx1rwYR",
        "colab": {
          "base_uri": "https://localhost:8080/"
        },
        "outputId": "3ee942af-827c-4e4e-f907-5d0c7bd23f75"
      },
      "execution_count": 59,
      "outputs": [
        {
          "output_type": "stream",
          "name": "stdout",
          "text": [
            "Polynomial A of degree  9 :  (x + 1)**3 * (x - 1) * (x+3)**2 * (x - 2) * (x + 2)**2\n",
            "Polynomial B of degree  9 :  x**9 + 10*x**8 + 33*x**7 + 18*x**6 - 129*x**5 - 282*x**4 - 133*x**3 + 182*x**2 + 228*x + 72\n",
            "Polynomials are equal, with an error probability of 1e-06\n"
          ]
        }
      ]
    },
    {
      "cell_type": "markdown",
      "source": [
        "Explain how you can boost your code to reduce the error probability without changing the value of `prec`. \n",
        "\n",
        "Explanation:\n",
        "\n",
        "Use the code cell below to show your boosted tester. Run it before submitting it to Gradescope."
      ],
      "metadata": {
        "id": "up8bcrjWgpSY"
      }
    },
    {
      "cell_type": "code",
      "source": [
        "# you can improve it by running it multiple times\n",
        "\n",
        "import random\n",
        "def equal_polynomials(polyA,polyB,prec):\n",
        "    pass\n",
        "    for i in 100:\n",
        "      r = random.randint(1, 100 * prec)\n",
        "      a = eval_polynomial(polyA[0], r)\n",
        "      b = eval_polynomial(polyB[0], r)\n",
        "      if a != b:\n",
        "        return False \n",
        "    return True\n"
      ],
      "metadata": {
        "id": "XXQU8IUMhkzt"
      },
      "execution_count": null,
      "outputs": []
    },
    {
      "cell_type": "markdown",
      "source": [
        "# Problem 2 - Sum of Dice (10 pts)"
      ],
      "metadata": {
        "id": "2IKxnQ2XCSf7"
      }
    },
    {
      "cell_type": "markdown",
      "source": [
        "# Part (a): Simulation"
      ],
      "metadata": {
        "id": "jPdax8twJVFG"
      }
    },
    {
      "cell_type": "markdown",
      "source": [],
      "metadata": {
        "id": "TqQaHAIv_ZyK"
      }
    },
    {
      "cell_type": "markdown",
      "source": [
        "In this part, you will write code that simulates an experiment of rolling `n` six-sided fair dice and adding up the numbers on the dice.\n",
        "\n",
        "Complete the following code cell so that `sum_of_dice(n)` returns the sum of numbers when `n` dice are rolled.\n",
        "\n",
        "For example, if `n == 3` and the numbers are `1`, `4`, and `2`, `sum_of_dice()` should return `7`."
      ],
      "metadata": {
        "id": "DrxY8iWJKHa7"
      }
    },
    {
      "cell_type": "code",
      "source": [
        "# Input: n is the number of dice\n",
        "# Output: the sum of numbers on the dice\n",
        "import random\n",
        "def sum_of_dice(n):\n",
        "  pass  \n",
        "  final = 0 \n",
        "  for i in range(n): \n",
        "    final += random.randint(1,6)\n",
        "  return final\n",
        "\n",
        "      \n"
      ],
      "metadata": {
        "id": "dlQN2vJxKk_1"
      },
      "execution_count": 7,
      "outputs": []
    },
    {
      "cell_type": "markdown",
      "source": [
        "Next, run the experiment 10000 times with `n == 2`, and print the *average* sum given by the simulation."
      ],
      "metadata": {
        "id": "KyDouQeWLPHb"
      }
    },
    {
      "cell_type": "code",
      "source": [
        "print(\"The average sum of rolling two dice is \", end='')\n",
        "\n",
        "total = 0\n",
        "for trial in range(10000):\n",
        "  pass      \n",
        "  total += sum_of_dice(2)\n",
        "print(total/10000)\n",
        "\n",
        "# Remember to print the average sum!"
      ],
      "metadata": {
        "id": "9RDrEKB2Lmve",
        "colab": {
          "base_uri": "https://localhost:8080/"
        },
        "outputId": "a8bab259-8402-474d-844f-65dbd88da050"
      },
      "execution_count": 15,
      "outputs": [
        {
          "output_type": "stream",
          "name": "stdout",
          "text": [
            "The average sum of rolling two dice is 6.9393\n"
          ]
        }
      ]
    },
    {
      "cell_type": "markdown",
      "source": [
        "# Part (b): Diagram"
      ],
      "metadata": {
        "id": "Br7vdZPQJa2-"
      }
    },
    {
      "cell_type": "markdown",
      "source": [
        "In this part, you will use `matplotlib.pyplot` to plot the result of running the dice simulation multiple times.\n",
        "\n",
        "Consider the following example, in which `pyplot` is used to display the most common English letters and their frequencies.\n",
        "\n",
        "Make sure you understand each line before moving on."
      ],
      "metadata": {
        "id": "htSdAn3KEd29"
      }
    },
    {
      "cell_type": "code",
      "source": [
        "# Import code. Don't change!\n",
        "# You can also read more about pyplot here: https://matplotlib.org/stable/tutorials/introductory/pyplot.html\n",
        "\n",
        "from matplotlib import pyplot"
      ],
      "metadata": {
        "id": "RaHd0smLE1Uj"
      },
      "execution_count": 18,
      "outputs": []
    },
    {
      "cell_type": "code",
      "source": [
        "# Example: What are the most common letters of the English alphabet?\n",
        "# Source: https://pi.math.cornell.edu/~mec/2003-2004/cryptography/subs/frequencies.html\n",
        "\n",
        "x_values = ['E', 'T', 'A', 'O', 'I']\n",
        "y_values = [0.5478, 0.4147, 0.3703, 0.3501, 0.3330]\n",
        "\n",
        "# Here, x_values is the list of most common letters,\n",
        "# Whereas y_values is the list of letter frequencies.\n",
        "# Notice that order matters! For example, 0.5478 is the frequency of the letter 'E'.\n",
        "\n",
        "# Use bar() to create a bar chart\n",
        "pyplot.bar(x_values, y_values)\n",
        "\n",
        "# Use title() to describe the diagram\n",
        "pyplot.title(\"English Letter Frequency\")\n",
        "\n",
        "# Use xlabel() and ylabel() to specify what each axis represents\n",
        "pyplot.xlabel(\"Letter\")\n",
        "pyplot.ylabel(\"Frequency\")\n",
        "\n",
        "# Finally, use show() to display the diagram\n",
        "pyplot.show()"
      ],
      "metadata": {
        "id": "nVN_ZjvpFQBN",
        "colab": {
          "base_uri": "https://localhost:8080/",
          "height": 295
        },
        "outputId": "8a6819e7-530d-42c1-b701-8d082a26ff27"
      },
      "execution_count": 19,
      "outputs": [
        {
          "output_type": "display_data",
          "data": {
            "text/plain": [
              "<Figure size 432x288 with 1 Axes>"
            ],
            "image/png": "[encoded data removed]"
          },
          "metadata": {
            "needs_background": "light"
          }
        }
      ]
    },
    {
      "cell_type": "markdown",
      "source": [
        "Now, use `pyplot` to create a bar chart that records the frequency of dice sums in the previous experiment in which we roll `n == 2` six-sided fair dice 10000 times.\n",
        "\n",
        "The frequency of each outcome (2, 3, ..., 12) should be the decimal fraction of trials in which the two dice add up to the number.\n",
        "\n",
        "Using `sum_of_dice(n)`, complete the following code cell and display the bar chart."
      ],
      "metadata": {
        "id": "Z_1OKjHIMqZu"
      }
    },
    {
      "cell_type": "code",
      "source": [
        "# your code here\n",
        "numbers = [0] *11\n",
        "for trial in range(10000):\n",
        "  index = sum_of_dice(2)\n",
        "  numbers[index - 2] += 1\n",
        "for i in range(11):\n",
        "  numbers[i] = numbers[i] / 10000\n",
        "\n",
        "x_values = [2,3,4,5,6,7,8,9,10,11,12]  # x_values should be a list containing all possible outcomes\n",
        "y_values = numbers  # y_values is the list of decimal frequency of each outcome\n",
        "\n",
        "pyplot.bar(x_values, y_values)\n",
        "\n",
        "pyplot.title(\"Sum Frequency\")  # give your bar chart an appropriate title\n",
        "\n",
        "pyplot.xlabel(\"Sum\") # give these axes an appropriate label\n",
        "pyplot.ylabel(\"Frequency\")\n",
        "\n",
        "pyplot.show()"
      ],
      "metadata": {
        "id": "wQU87YAeOImA",
        "colab": {
          "base_uri": "https://localhost:8080/",
          "height": 295
        },
        "outputId": "b0d5e0f6-4924-41a2-f0e9-be0fc13c0fa2"
      },
      "execution_count": 21,
      "outputs": [
        {
          "output_type": "display_data",
          "data": {
            "text/plain": [
              "<Figure size 432x288 with 1 Axes>"
            ],
            "image/png": "[encoded data removed]"
          },
          "metadata": {
            "needs_background": "light"
          }
        }
      ]
    }
  ]
}