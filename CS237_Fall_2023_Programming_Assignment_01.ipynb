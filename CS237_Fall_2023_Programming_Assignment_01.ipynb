{
  "nbformat": 4,
  "nbformat_minor": 0,
  "metadata": {
    "colab": {
      "provenance": [],
      "include_colab_link": true
    },
    "kernelspec": {
      "name": "python3",
      "display_name": "Python 3"
    },
    "language_info": {
      "name": "python"
    }
  },
  "cells": [
    {
      "cell_type": "markdown",
      "metadata": {
        "id": "view-in-github",
        "colab_type": "text"
      },
      "source": [
        "<a href=\"https://colab.research.google.com/github/Bryce-Hiraoka/Bryce-Hiraoka/blob/main/CS237_Fall_2023_Programming_Assignment_01.ipynb\" target=\"_parent\"><img src=\"https://colab.research.google.com/assets/colab-badge.svg\" alt=\"Open In Colab\"/></a>"
      ]
    },
    {
      "cell_type": "markdown",
      "source": [
        "# CS237 - Fall 2023 - Programming Assignment 01\n",
        "## Due Thursday January 26th at midnight (1 minute after 11:59pm) in Gradescope\n",
        "\n",
        "In this first programming assignment you will become familiar with various methods of displaying the results of probability experiments graphically in Python.\n",
        "\n",
        "Submit your programming assingment by filling in this notebook with your solutions. A handout and a video guide on programming assignments are posted in Piazza Resources. Write all your code in this file, **be sure to click on Runtime-> Run all and verify that everything works as you intended**, and then upload the `ipynb` file to Gradescope.\n",
        "\n",
        "### Important notes\n",
        "   * Homeworks may be submitted up to 12 hours late with a 10% penalty.\n",
        "   * We will **not** accept any homework that is more than 12 hours late."
      ],
      "metadata": {
        "id": "Ejq6YVEvm5KX"
      }
    },
    {
      "cell_type": "markdown",
      "source": [
        "### Warmup - Generating Random Numbers\n"
      ],
      "metadata": {
        "id": "juHBYMuLonCN"
      }
    },
    {
      "cell_type": "markdown",
      "source": [
        "Go to https://docs.python.org/2/library/random.html and read about the random library. We will use the following two functions, which you should understand well before proceeding:"
      ],
      "metadata": {
        "id": "SB6-QOd8slrP"
      }
    },
    {
      "cell_type": "code",
      "source": [
        "# Run this cell by clicking on the play button on the left to load the random library\n",
        "import random"
      ],
      "metadata": {
        "id": "v6tttqodu8cG"
      },
      "execution_count": 1,
      "outputs": []
    },
    {
      "cell_type": "markdown",
      "source": [
        "In the next cell we will use the function randint to generate integers between 1 and 59. To run the code, move the mouse cursor on the top of the cell and click on the play button on the left."
      ],
      "metadata": {
        "id": "b41L9yF0vK6A"
      }
    },
    {
      "cell_type": "code",
      "source": [
        "# random.randint(a, b): returns a random integer N such that a <= N <= b.\n",
        "random.randint(1,59)"
      ],
      "metadata": {
        "id": "aaNQoVR7ts3b",
        "colab": {
          "base_uri": "https://localhost:8080/"
        },
        "outputId": "5c573144-9c6a-47c8-99f3-7128f7422db5"
      },
      "execution_count": 2,
      "outputs": [
        {
          "output_type": "execute_result",
          "data": {
            "text/plain": [
              "15"
            ]
          },
          "metadata": {},
          "execution_count": 2
        }
      ]
    },
    {
      "cell_type": "markdown",
      "source": [
        "Next, we will use the funcion random to generate floatin point numbers in the half-closed interval [0.0, 1.0)."
      ],
      "metadata": {
        "id": "1m0c-RGKvkkG"
      }
    },
    {
      "cell_type": "code",
      "source": [
        "import random\n",
        "# random.random(): return a random floating point number in the range [0.0, 1.0).\n",
        "random.random()\n"
      ],
      "metadata": {
        "id": "-ufQbkeTuTEO",
        "colab": {
          "base_uri": "https://localhost:8080/"
        },
        "outputId": "1ebe6729-ffdd-4bfb-b7f0-b0ac7f77e12a"
      },
      "execution_count": 3,
      "outputs": [
        {
          "output_type": "execute_result",
          "data": {
            "text/plain": [
              "0.9904909058783625"
            ]
          },
          "metadata": {},
          "execution_count": 3
        }
      ]
    },
    {
      "cell_type": "markdown",
      "source": [],
      "metadata": {
        "id": "ouVE_dBqCKtc"
      }
    },
    {
      "cell_type": "markdown",
      "source": [
        "### Problem 1 - Lottery ticket generator\n",
        "\n",
        "Lottery is a game of chance where players purchase a ticket and select numbers. The outcome of the game is determined by probability, as the winning numbers are chosen randomly.\n",
        "\n",
        "Tiago needs your help to use `random.randint(a,b)` to write a function that will generate six random integers between 1 and 59 that he will use to become the next billionaire. Make sure that those numbers are distincts.\n",
        "\n",
        "Write your own code and use the comments to explain your approach."
      ],
      "metadata": {
        "id": "jPkld4wXrYTh"
      }
    },
    {
      "cell_type": "code",
      "source": [
        "def ticket_generator():\n",
        "  # modify this code to generate six distinct integers\n",
        "  ans = [0,0,0,0,0,0];\n",
        "  for i in range(6):\n",
        "    c = random.randint(1,59);\n",
        "    ans[i] = c;\n",
        "  return ans;"
      ],
      "metadata": {
        "id": "l2YRK61X1Nx8"
      },
      "execution_count": 18,
      "outputs": []
    },
    {
      "cell_type": "markdown",
      "source": [
        "Run the code bellow to check if your function produces a valid output."
      ],
      "metadata": {
        "id": "960qaRpM143D"
      }
    },
    {
      "cell_type": "code",
      "source": [
        "# do not change the code bellow\n",
        "my_ticket = ticket_generator()\n",
        "def is_valid(input_ticket):\n",
        "  my_ticket = sorted(input_ticket)\n",
        "  for i in range(len(my_ticket)-1):\n",
        "    if my_ticket[i] >= my_ticket[i+1]:\n",
        "      return False\n",
        "  return True\n",
        "\n",
        "if is_valid(my_ticket):\n",
        "  print('The ticket is valid. Good luck!')\n",
        "else:\n",
        "  print('Invalid ticket')"
      ],
      "metadata": {
        "id": "rcjNdIWQ1OOe",
        "colab": {
          "base_uri": "https://localhost:8080/"
        },
        "outputId": "48e96f2b-5e50-4422-d044-0f1d204f7489"
      },
      "execution_count": 22,
      "outputs": [
        {
          "output_type": "stream",
          "name": "stdout",
          "text": [
            "The ticket is valid. Good luck!\n"
          ]
        }
      ]
    },
    {
      "cell_type": "markdown",
      "source": [
        "### Problem 2 - Coin tossing\n",
        "\n",
        "Coin tossing, also known as coin flipping, is a simple game of chance in which a coin is flipped into the air, and players guess or bet on which side will land facing up. The two sides of the coin are typically referred to as \"heads\" and \"tails.\" The outcome of a coin toss is determined by the laws of probability, as a fair coin has an equal chance of landing on either side. \n",
        "\n",
        "What happens when the coin is not fair? It means that the probability of one of the sides landing facing up is **NOT** equal to the probability of the other side. For example, if an unfair coin has a probability of 0.6 of landing on heads and a probability of 0.4 of landing on tails, it would be considered unfair because the chances of getting heads is higher.\n",
        "\n",
        "Tiago wants to simulate a coint being tossed multiple times. Given a probability p, write a function nextFlip(p) which uses the funcion random.random() to generate a random number $r$ and returns True if the $r < p$ (heads) or False if $r \\geq p$ (tails) "
      ],
      "metadata": {
        "id": "AiJvq0TJwH25"
      }
    },
    {
      "cell_type": "code",
      "source": [
        "def next_flip(p):\n",
        "  # uses the funcion random.random() to generate a random number r \n",
        "  # if the r < p return True\n",
        "  # otherwise, if r >= p, return False\n",
        "  r = random.random();\n",
        "  if r < p:\n",
        "    return True;\n",
        "  else:\n",
        "    return False;"
      ],
      "metadata": {
        "id": "fktnxJAZ8mSK"
      },
      "execution_count": 23,
      "outputs": []
    },
    {
      "cell_type": "markdown",
      "source": [
        "Now, let N be a big number (larger than $10^5$). Write a function called coin_simulation(p, N) that will use next_flip(p) to toss a coin N times and return the amount of times heads and tails appeared. Use the comments to explain your approach."
      ],
      "metadata": {
        "id": "7ygzVtOY9Bkj"
      }
    },
    {
      "cell_type": "code",
      "source": [
        "def coin_simulation(p,N):\n",
        "  heads = tails = 0\n",
        "  for i in range(N):\n",
        "  # For loop to flip the coin N times\n",
        "    ans = next_flip(0.5);\n",
        "    # Runs the function next_flip\n",
        "    # Has 0.5 as the input because it random.random()\n",
        "    # chooses a random number 0 through 1\n",
        "    if(ans == True):\n",
        "    # If statment for if the answer equals True\n",
        "      heads += 1;\n",
        "      # Adds 1 to heads if True is returned\n",
        "    else:\n",
        "      tails += 1;\n",
        "      # Adds 1 to tails if False is returned\n",
        "  # Use next_flip(p) to toss a coin\n",
        "  # Count how many times heads and tails appeared\n",
        "  # Return your solution as a list\n",
        "  return [heads,tails]"
      ],
      "metadata": {
        "id": "8UZsFVSy9n9W"
      },
      "execution_count": 26,
      "outputs": []
    },
    {
      "cell_type": "markdown",
      "source": [
        "Run the code bellow to check if your function procudes the expected output. Try using p=0.4, p=0.5, and p=0.6 and N = $10^5$."
      ],
      "metadata": {
        "id": "gYmlNOLf_MLE"
      }
    },
    {
      "cell_type": "code",
      "source": [
        "def coin_experiment(p,N):\n",
        "  total = coin_simulation(p,N)\n",
        "  print(\"A coin was tossed \",N,\" times\")\n",
        "  print(\"heads occurred \",total[0],\" times\")\n",
        "  print(\"tails occurred \",total[1],\" times\")\n",
        "\n",
        "coin_experiment(.3,1000)"
      ],
      "metadata": {
        "id": "2tsarlT2-rsh",
        "colab": {
          "base_uri": "https://localhost:8080/"
        },
        "outputId": "181637aa-490c-497e-ae1b-8c3f34756ea6"
      },
      "execution_count": 27,
      "outputs": [
        {
          "output_type": "stream",
          "name": "stdout",
          "text": [
            "A coin was tossed  1000  times\n",
            "heads occurred  512  times\n",
            "tails occurred  488  times\n"
          ]
        }
      ]
    },
    {
      "cell_type": "markdown",
      "source": [
        "It is time for submittion, I hope you had fun solving this assigment."
      ],
      "metadata": {
        "id": "apadT1VMLN0t"
      }
    }
  ]
}