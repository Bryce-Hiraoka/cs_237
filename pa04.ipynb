{
  "nbformat": 4,
  "nbformat_minor": 0,
  "metadata": {
    "colab": {
      "provenance": [],
      "include_colab_link": true
    },
    "kernelspec": {
      "name": "python3",
      "display_name": "Python 3"
    },
    "language_info": {
      "name": "python"
    }
  },
  "cells": [
    {
      "cell_type": "markdown",
      "metadata": {
        "id": "view-in-github",
        "colab_type": "text"
      },
      "source": [
        "<a href=\"https://colab.research.google.com/github/Bryce-Hiraoka/cs_237/blob/ps04/pa04.ipynb\" target=\"_parent\"><img src=\"https://colab.research.google.com/assets/colab-badge.svg\" alt=\"Open In Colab\"/></a>"
      ]
    },
    {
      "cell_type": "markdown",
      "source": [
        "# CS237 - Fall 2023 - Programming Assignment 04\n",
        "## Due Thursday, February 16th at midnight (1 minute after 11:59pm) in Gradescope\n",
        "\n",
        "You will implement a variation to the Monty Hall Problem in this programming assignment.\n",
        "\n",
        "Submit your programming assignment by filling in this notebook with your solutions. Write all your code in this file, **be sure to click on Runtime-> Run all and verify that everything works as you intended**, and then upload the `ipynb` file to Gradescope.\n",
        "\n",
        "### Notes:\n",
        "* You can reuse the code provided in this and previous homework descriptions.\n",
        "* You are obliged to go to \"Runtime->Run All\" and execute all cells before downloading the .ipynb file.\n",
        "* Do your best to follow these principles:\n",
        " * **Correctness**: your code should be free of error. Debug it as many times as possible.\n",
        " * **Clarity**: write high-quality comments, functions, and variable naming\n",
        " * **Simplicity**: write your solution in the assigned cells, don't create new cells or reorder them. \n",
        " * **Completeness**: the solution to all problems must be included in one Python notebook, and no function should be blank.\n",
        " * **Authenticity**, since we assume that you posted your code written by you.\n"
      ],
      "metadata": {
        "id": "Ejq6YVEvm5KX"
      }
    },
    {
      "cell_type": "markdown",
      "source": [
        "## Warmup - The original Monty Hall Problem\n",
        "\n",
        "In Lecture 4, we saw how to simulate the Monty Hall Problem in Python. Here, we use a different approach by splitting the Monty Hall Problem into phases:\n",
        "\n",
        "1. the host hides goats and car behind doors;\n",
        "\n",
        "2. the player chooses a door;\n",
        "\n",
        "3. the host reveals a door;\n",
        "\n",
        "4. the player stays or switches to a different door;\n",
        "\n",
        "5. checking whether the player's final choice contains a car.\n",
        "\n",
        "We will use a list to represent the state of each door: whether a door contains `\"hidden car\"`, `\"hidden goat\"` or `\"revealed goat\"`.\n",
        "\n",
        "For example, if the list is `[\"hidden car\", \"hidden goat\", \"hidden goat\"]`, then only the first door contains a car and all other doors contain a goat."
      ],
      "metadata": {
        "id": "juHBYMuLonCN"
      }
    },
    {
      "cell_type": "code",
      "source": [
        "# Warmup: Monty Hall Problem\n",
        "\n",
        "import random\n",
        "\n",
        "print(random.random())\n",
        "print(\"Cool! random() is working!\\n\")\n",
        "\n",
        "\n",
        "# PHASE 1 - host hides goats and cars behind doors\n",
        "\n",
        "doors = [\"hidden goat\"] * 3\n",
        "random_index = random.randint(0, 2)\n",
        "doors[random_index] = \"hidden car\"\n",
        "print(\"The doors are\", doors)\n",
        "print()\n",
        "\n",
        "\n",
        "# PHASE 2 - player picks a door\n",
        "\n",
        "player_choice = random.randint(0, 2)\n",
        "print(\"Player chose door\", player_choice)\n",
        "print()\n",
        "\n",
        "\n",
        "# PHASE 3 - host reveals a door\n",
        "\n",
        "host_available_choices = [index for index in range(3) if doors[index] == \"hidden goat\" and index != player_choice]\n",
        "host_choice = random.choice(host_available_choices)\n",
        "doors[host_choice] = \"revealed goat\"\n",
        "print(\"Host revealed door\", host_choice)\n",
        "print(\"The doors are\", doors)\n",
        "print()\n",
        "\n",
        "# PHASE 4 - player stays or switches\n",
        "\n",
        "player_available_choices = [index for index in range(3) if doors[index] != \"revealed goat\" and index != player_choice]\n",
        "player_new_choice = random.choice(player_available_choices)\n",
        "print(\"Player's new choice is\", player_new_choice)\n",
        "print()\n",
        "\n",
        "# PHASE 5 - checking player's final choice\n",
        "\n",
        "print(\"The player chose a door that contains a\", doors[player_new_choice])\n",
        "\n"
      ],
      "metadata": {
        "id": "SZbM1YycjBGg",
        "colab": {
          "base_uri": "https://localhost:8080/"
        },
        "outputId": "8ce641b4-20f2-447d-f658-099ff4027cf1"
      },
      "execution_count": 1,
      "outputs": [
        {
          "output_type": "stream",
          "name": "stdout",
          "text": [
            "0.8270667506446506\n",
            "Cool! random() is working!\n",
            "\n",
            "The doors are ['hidden goat', 'hidden car', 'hidden goat']\n",
            "\n",
            "Player chose door 1\n",
            "\n",
            "Host revealed door 0\n",
            "The doors are ['revealed goat', 'hidden car', 'hidden goat']\n",
            "\n",
            "Player's new choice is 2\n",
            "\n",
            "The player chose a door that contains a hidden goat\n"
          ]
        }
      ]
    },
    {
      "cell_type": "markdown",
      "source": [
        "## Monty Hall Problem with multiple revealed doors\n",
        "\n",
        "We want to generalize the Monty Hall problem so that there are now `n` doors and only one of them contains a car. Moreover, the host now reveals `k` doors that contain a goat; again, the host should not reveal the player's door. The player always switches to one of the remaining doors uniformly at random. You can assume `1 <= k <= n - 2`.\n",
        "\n",
        "* Complete the function `single_trial()` so that it simulates the generalized Monty Hall problem and returns `True` if the player wins the car and `False` otherwise. \n",
        "\n",
        "* Use `multiple_trials()` to empirically estimate the probability of winning the car when `n = 10` and `k = 4`.\n",
        "\n",
        "* Finally, create a bar chart that shows the probability of winning a car for k` = 1, ..., 48` when `n = 50`.\n",
        "\n",
        "You can refer to the Warmup code or the code from Lecture 4, but you should not do any printing inside `single_trial()`. You should not modify the function `multiple_trials()`."
      ],
      "metadata": {
        "id": "KjS_CL0Rnlio"
      }
    },
    {
      "cell_type": "code",
      "source": [
        "import random\n",
        "\n",
        "# Input: n is the number of doors, k is the number of revealed doors\n",
        "# Output: Boolean value True if the player wins the car and False otherwise\n",
        "def single_trial(n, k):\n",
        "    # assigns a list of length n with values hidden goats to the varible doors\n",
        "    doors = ['hidden goat'] * n\n",
        "    # assigns a random integer from 0 to n-1 to a varible has_cars\n",
        "    # this represents the index of where the car is\n",
        "    has_car = random.randint(0, n-1)\n",
        "    # assigns the value of doors at index has_car to be hidden car\n",
        "    doors[has_car] = 'hidden car'\n",
        "    # assigns a random integer from 0 to n-1 which represents the index of the door the player has selected\n",
        "    player_door = random.randint(0, n-1)\n",
        "    # creates a list of indices from doors list that are not the player door and equal to hidden goat\n",
        "    host_available_choices = [index for index in range(n) if doors[index] == \"hidden goat\" and index != player_door]\n",
        "    # for loop to do the process k time bc k doors are revealed\n",
        "    for i in range(k):\n",
        "      # assigns a random value from the host_available_choices list to a varible choice\n",
        "      choice = random.choice(host_available_choices)\n",
        "      # changed the value of doors at index choice to revealed goat\n",
        "      doors[choice] = 'revealed goat'\n",
        "      # removes the choice from the choice list\n",
        "      host_available_choices.remove(choice)\n",
        "    # creates a list with the indices that are still available to choose (not equal to reveled goat/ not the player door)\n",
        "    player_available_choices = [index for index in range(n) if doors[index] != \"revealed goat\" and index != player_door]\n",
        "    # assigns a random value from players availble choices to a varible player_new_choice\n",
        "    player_new_choice = random.choice(player_available_choices)\n",
        "    # checks if the new choice is equal to the index where the car is\n",
        "    if player_new_choice == has_car:\n",
        "      # return True if it is\n",
        "      return True\n",
        "    else:\n",
        "      # returns False if it is not\n",
        "      return False\n",
        "\n",
        "\n",
        "# Input: n is the number of doors, k is the number of revealed doors, num_trials is the number of simulation trials\n",
        "# Output: the number of trials in which the player wins the car\n",
        "def multiple_trials(n, k, num_trials=1000):\n",
        "    num_wins = 0\n",
        "    for _ in range(num_trials):\n",
        "        if single_trial(n, k):\n",
        "            num_wins += 1\n",
        "    return num_wins / num_trials\n",
        "\n",
        "print(\"When n=10 and k=4, the probability of winning a car is\", multiple_trials(10, 4))\n",
        "\n",
        "# You can print and test other values of n and k here\n"
      ],
      "metadata": {
        "id": "_H5tL1dSqyTq",
        "colab": {
          "base_uri": "https://localhost:8080/"
        },
        "outputId": "a3657723-893f-4ab6-9f6c-5051a9c056bd"
      },
      "execution_count": 19,
      "outputs": [
        {
          "output_type": "stream",
          "name": "stdout",
          "text": [
            "When n=10 and k=4, the probability of winning a car is 0.168\n"
          ]
        }
      ]
    },
    {
      "cell_type": "markdown",
      "source": [
        "## Visualization"
      ],
      "metadata": {
        "id": "jPdax8twJVFG"
      }
    },
    {
      "cell_type": "markdown",
      "source": [
        "Create a bar chart that shows the probability of winning a car for `k = 1, ..., 48` when `n = 50`.\n",
        "\n",
        "Remember to give your bar chart an appropriate title and label each axis."
      ],
      "metadata": {
        "id": "DrxY8iWJKHa7"
      }
    },
    {
      "cell_type": "code",
      "source": [
        "from matplotlib import pyplot\n",
        "# assigns x_values to a list with numbers from 1-48 representing k\n",
        "x_values = list(range(1,49))\n",
        "# creates a new empty list\n",
        "y_values = []\n",
        "# for loop that runs from 1 to 48\n",
        "for i in range(1,49):\n",
        "  # assigns the return value from multiple_trials to variable prob\n",
        "  prob = multiple_trials(50, i)\n",
        "  if i == 48:\n",
        "    print(prob)\n",
        "  # append prob to the end of y_values\n",
        "  y_values.append(prob)\n",
        "# x and y values from graph\n",
        "pyplot.bar(x_values, y_values)\n",
        "# title\n",
        "pyplot.title(\"Probability of winning with k doors revealed\")\n",
        "# x axis\n",
        "pyplot.xlabel(\"Number of doors revealed\")\n",
        "# y axis\n",
        "pyplot.ylabel(\"probability of winning\")\n",
        "#show\n",
        "pyplot.show()\n",
        "\n"
      ],
      "metadata": {
        "id": "dlQN2vJxKk_1",
        "colab": {
          "base_uri": "https://localhost:8080/",
          "height": 313
        },
        "outputId": "18dce1ad-985b-4706-c085-9946e2d14b9f"
      },
      "execution_count": 20,
      "outputs": [
        {
          "output_type": "stream",
          "name": "stdout",
          "text": [
            "0.979\n"
          ]
        },
        {
          "output_type": "display_data",
          "data": {
            "text/plain": [
              "<Figure size 432x288 with 1 Axes>"
            ],
            "image/png": "[encoded data removed]"
          },
          "metadata": {
            "needs_background": "light"
          }
        }
      ]
    }
  ]
}